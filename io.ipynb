{
 "cells": [
  {
   "cell_type": "code",
   "execution_count": null,
   "metadata": {},
   "outputs": [],
   "source": [
    "# default_exp io"
   ]
  },
  {
   "cell_type": "markdown",
   "metadata": {},
   "source": [
    "# IO\n",
    "\n",
    "> read and write 3d files like obj, ply ..."
   ]
  },
  {
   "cell_type": "code",
   "execution_count": null,
   "metadata": {},
   "outputs": [],
   "source": [
    "# export\n",
    "import open3d as o3d\n",
    "import numpy as np\n",
    "from face_3dmm.utils import test_eq"
   ]
  },
  {
   "cell_type": "code",
   "execution_count": null,
   "metadata": {},
   "outputs": [],
   "source": [
    "# export\n",
    "def load_vf(fp: str):\n",
    "    mesh = o3d.io.read_triangle_mesh(fp)\n",
    "    return np.asarray(mesh.vertices), np.asarray(mesh.triangles)\n",
    "        \n",
    "def write_vf(fp: str, verts, faces=None, flip_face=False):\n",
    "    faces = faces if not flip_face else faces[:, ::-1]\n",
    "    mesh = o3d.geometry.TriangleMesh()\n",
    "    mesh.triangles = o3d.utility.Vector3iVector(faces)\n",
    "    mesh.vertices = o3d.utility.Vector3dVector(verts)\n",
    "    o3d.io.write_triangle_mesh(fp, mesh)"
   ]
  },
  {
   "cell_type": "code",
   "execution_count": null,
   "metadata": {},
   "outputs": [],
   "source": [
    "# hide\n",
    "!wget https://dl.fbaipublicfiles.com/pytorch3d/data/dolphin/dolphin.obj"
   ]
  },
  {
   "cell_type": "code",
   "execution_count": null,
   "metadata": {},
   "outputs": [],
   "source": [
    "verts, faces = load_vf('dolphin.obj')\n",
    "test_eq(verts.shape, (2562,3))\n",
    "test_eq(faces.shape, (5120, 3))\n",
    "write_vf('demo.obj', verts, faces)"
   ]
  },
  {
   "cell_type": "code",
   "execution_count": null,
   "metadata": {},
   "outputs": [
    {
     "name": "stdout",
     "output_type": "stream",
     "text": [
      "Converted index.ipynb.\n",
      "Converted io.ipynb.\n",
      "Converted utils.ipynb.\n"
     ]
    }
   ],
   "source": [
    "from nbdev.export import *\n",
    "\n",
    "notebook2script()"
   ]
  },
  {
   "cell_type": "code",
   "execution_count": null,
   "metadata": {},
   "outputs": [],
   "source": []
  }
 ],
 "metadata": {
  "kernelspec": {
   "display_name": "dev",
   "language": "python",
   "name": "dev"
  }
 },
 "nbformat": 4,
 "nbformat_minor": 4
}
