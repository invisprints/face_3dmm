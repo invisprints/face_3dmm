{
 "cells": [
  {
   "cell_type": "code",
   "execution_count": null,
   "metadata": {},
   "outputs": [],
   "source": [
    "# default_exp transform"
   ]
  },
  {
   "cell_type": "code",
   "execution_count": null,
   "metadata": {},
   "outputs": [],
   "source": [
    "# export\n",
    "import torch"
   ]
  },
  {
   "cell_type": "code",
   "execution_count": null,
   "metadata": {},
   "outputs": [],
   "source": [
    "# export\n",
    "def deg2rad(angles):\n",
    "    if torch.__version__ >= '1.6':\n",
    "        return torch.deg2rad(angles)\n",
    "\n",
    "    M_PI_180 = torch.tensor(0.017453292519943295769236907684886127134428718885417, dtype=torch.float64)\n",
    "    return torch.mul(angles, M_PI_180.to(angles.device))"
   ]
  },
  {
   "cell_type": "code",
   "execution_count": null,
   "metadata": {},
   "outputs": [],
   "source": [
    "# export\n",
    "def axis_angle_rotation(axis: str, angle, mode='normal'):\n",
    "    \"\"\"\n",
    "    Return the rotation matrices for one of the rotations about an axis\n",
    "    of which Euler angles describe, for each value of the angle given.\n",
    "\n",
    "    Args:\n",
    "        axis: Axis label \"X\" or \"Y or \"Z\".\n",
    "        angle: any shape tensor of Euler angles in radians\n",
    "\n",
    "    Returns:\n",
    "        Rotation matrices as tensor of shape (..., 3, 3).\n",
    "    \"\"\"\n",
    "\n",
    "    cos = torch.cos(angle).to(angle.device)\n",
    "    sin = torch.sin(angle).to(angle.device)\n",
    "    one = torch.ones_like(angle).to(angle.device)\n",
    "    zero = torch.zeros_like(angle).to(angle.device)\n",
    "    \n",
    "    if mode == 'normal':\n",
    "        ff = 1\n",
    "    elif mode == '3ddfa':\n",
    "        ff = -1\n",
    "\n",
    "    if axis == \"X\":\n",
    "        R_flat = (one, zero, zero, \n",
    "                  zero, cos, -sin*ff,\n",
    "                  zero, sin*ff, cos)\n",
    "    if axis == \"Y\":\n",
    "        R_flat = (cos, zero, sin*ff,\n",
    "                  zero, one, zero,\n",
    "                  -sin*ff, zero, cos)\n",
    "    if axis == \"Z\":\n",
    "        R_flat = (cos, -sin*ff, zero,\n",
    "                  sin*ff, cos, zero,\n",
    "                  zero, zero, one)\n",
    "\n",
    "    return torch.stack(R_flat, -1).reshape(angle.shape + (3, 3))\n",
    "\n",
    "def angle2matrix(angles, mode='normal'):\n",
    "    angles = angles.double()\n",
    "    if mode == 'normal':\n",
    "        matrices = map(axis_angle_rotation, \"ZYX\", torch.unbind(deg2rad(angles), -1)[::-1], [mode]*3)\n",
    "    elif mode =='3ddfa':\n",
    "        matrices = map(axis_angle_rotation, \"XYZ\", torch.unbind(angles, -1), [mode]*3)\n",
    "    return functools.reduce(torch.matmul, matrices).float()"
   ]
  },
  {
   "cell_type": "code",
   "execution_count": null,
   "metadata": {},
   "outputs": [],
   "source": [
    "# export\n",
    "def similarity_transform(verts, s, R, t3d):\n",
    "    tfm_verts = s[..., None] * verts.matmul(R.transpose(-1, -2)) + t3d.unsqueeze(-2)\n",
    "    return tfm_verts\n",
    "\n",
    "def transform(vertices, s, angles, t3d, mode='normal'):\n",
    "    R = angle2matrix(angles, mode)\n",
    "    return similarity_transform(vertices.float(), s, R, t3d)"
   ]
  },
  {
   "cell_type": "code",
   "execution_count": null,
   "metadata": {},
   "outputs": [],
   "source": [
    "# export\n",
    "def denormal_mesh(verts, mean=None, std=None, pose=None):\n",
    "    if std is not None:\n",
    "        verts *= std\n",
    "    if mean is not None:\n",
    "        verts += mean\n",
    "    if pose is not None:\n",
    "        s = pose[6]/1000/0.0012\n",
    "        angles = pose[:3]\n",
    "        t = pose[3:6]*225\n",
    "        verts = transform(verts, s, angles, t, '3ddfa')\n",
    "    return verts"
   ]
  },
  {
   "cell_type": "code",
   "execution_count": null,
   "metadata": {},
   "outputs": [
    {
     "name": "stdout",
     "output_type": "stream",
     "text": [
      "Converted index.ipynb.\n",
      "Converted io.ipynb.\n",
      "Converted transform.ipynb.\n",
      "Converted utils.ipynb.\n"
     ]
    }
   ],
   "source": [
    "from nbdev.export import *\n",
    "\n",
    "notebook2script()"
   ]
  }
 ],
 "metadata": {
  "kernelspec": {
   "display_name": "dev",
   "language": "python",
   "name": "dev"
  }
 },
 "nbformat": 4,
 "nbformat_minor": 4
}
