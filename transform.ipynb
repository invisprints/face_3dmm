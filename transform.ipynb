{
 "cells": [
  {
   "cell_type": "code",
   "execution_count": null,
   "metadata": {},
   "outputs": [],
   "source": [
    "# default_exp transform"
   ]
  },
  {
   "cell_type": "code",
   "execution_count": null,
   "metadata": {},
   "outputs": [],
   "source": [
    "# export\n",
    "import torch"
   ]
  },
  {
   "cell_type": "code",
   "execution_count": null,
   "metadata": {},
   "outputs": [],
   "source": [
    "# export\n",
    "def deg2rad(angles):\n",
    "    if torch.__version__ >= '1.6':\n",
    "        return torch.deg2rad(angles)\n",
    "\n",
    "    M_PI_180 = torch.tensor(0.017453292519943295769236907684886127134428718885417, dtype=torch.float64)\n",
    "    return torch.mul(angles, M_PI_180.to(angles.device))"
   ]
  },
  {
   "cell_type": "code",
   "execution_count": null,
   "metadata": {},
   "outputs": [],
   "source": [
    "# export\n",
    "def axis_angle_rotation(axis: str, angle, mode='normal'):\n",
    "    \"\"\"\n",
    "    Return the rotation matrices for one of the rotations about an axis\n",
    "    of which Euler angles describe, for each value of the angle given.\n",
    "\n",
    "    Args:\n",
    "        axis: Axis label \"X\" or \"Y or \"Z\".\n",
    "        angle: any shape tensor of Euler angles in radians\n",
    "\n",
    "    Returns:\n",
    "        Rotation matrices as tensor of shape (..., 3, 3).\n",
    "    \"\"\"\n",
    "\n",
    "    cos = torch.cos(angle).to(angle.device)\n",
    "    sin = torch.sin(angle).to(angle.device)\n",
    "    one = torch.ones_like(angle).to(angle.device)\n",
    "    zero = torch.zeros_like(angle).to(angle.device)\n",
    "    \n",
    "    if mode == 'normal':\n",
    "        ff = 1\n",
    "    elif mode == '3ddfa':\n",
    "        ff = -1\n",
    "\n",
    "    if axis == \"X\":\n",
    "        R_flat = (one, zero, zero, \n",
    "                  zero, cos, -sin*ff,\n",
    "                  zero, sin*ff, cos)\n",
    "    if axis == \"Y\":\n",
    "        R_flat = (cos, zero, sin*ff,\n",
    "                  zero, one, zero,\n",
    "                  -sin*ff, zero, cos)\n",
    "    if axis == \"Z\":\n",
    "        R_flat = (cos, -sin*ff, zero,\n",
    "                  sin*ff, cos, zero,\n",
    "                  zero, zero, one)\n",
    "\n",
    "    return torch.stack(R_flat, -1).reshape(angle.shape + (3, 3))\n",
    "\n",
    "def angle2matrix(angles, mode='normal'):\n",
    "    angles = angles.double()\n",
    "    if mode == 'normal':\n",
    "        matrices = map(axis_angle_rotation, \"ZYX\", torch.unbind(deg2rad(angles), -1)[::-1], [mode]*3)\n",
    "    elif mode =='3ddfa':\n",
    "        matrices = map(axis_angle_rotation, \"XYZ\", torch.unbind(angles, -1), [mode]*3)\n",
    "    return functools.reduce(torch.matmul, matrices).float()"
   ]
  },
  {
   "cell_type": "code",
   "execution_count": null,
   "metadata": {},
   "outputs": [],
   "source": [
    "# export\n",
    "def similarity_transform(verts, s, R, t3d):\n",
    "    tfm_verts = s[..., None] * verts.matmul(R.transpose(-1, -2)) + t3d.unsqueeze(-2)\n",
    "    return tfm_verts\n",
    "\n",
    "def transform(vertices, s, angles, t3d, mode='normal'):\n",
    "    R = angle2matrix(angles, mode)\n",
    "    return similarity_transform(vertices.float(), s, R, t3d)"
   ]
  },
  {
   "cell_type": "code",
   "execution_count": null,
   "metadata": {},
   "outputs": [],
   "source": [
    "# export\n",
    "# TODO\n",
    "def rotate(vertices, angles):\n",
    "    ''' rotate vertices. \n",
    "    X_new = R.dot(X). X: 3 x 1   \n",
    "    Args:\n",
    "        vertices: [nver, 3]. \n",
    "        rx, ry, rz: degree angles\n",
    "        rx: pitch. positive for looking down \n",
    "        ry: yaw. positive for looking left\n",
    "        rz: roll. positive for tilting head right\n",
    "    Returns:\n",
    "        rotated vertices: [nver, 3]\n",
    "    '''\n",
    "    R = angle2matrix(angles)\n",
    "    rotated_vertices = vertices.dot(R.T)\n",
    "\n",
    "    return rotated_vertices"
   ]
  },
  {
   "cell_type": "code",
   "execution_count": null,
   "metadata": {},
   "outputs": [],
   "source": [
    "# export\n",
    "# TODO\n",
    "def matrix2angle(R):\n",
    "    ''' get three Euler angles from Rotation Matrix\n",
    "    Args:\n",
    "        R: (3,3). rotation matrix\n",
    "    Returns:\n",
    "        x: pitch\n",
    "        y: yaw\n",
    "        z: roll\n",
    "    '''\n",
    "    assert(isRotationMatrix)\n",
    "    sy = math.sqrt(R[0,0] * R[0,0] +  R[1,0] * R[1,0])\n",
    "     \n",
    "    singular = sy < 1e-6\n",
    " \n",
    "    if  not singular :\n",
    "        x = math.atan2(R[2,1] , R[2,2])\n",
    "        y = math.atan2(-R[2,0], sy)\n",
    "        z = math.atan2(R[1,0], R[0,0])\n",
    "    else :\n",
    "        x = math.atan2(-R[1,2], R[1,1])\n",
    "        y = math.atan2(-R[2,0], sy)\n",
    "        z = 0\n",
    "\n",
    "    # rx, ry, rz = np.rad2deg(x), np.rad2deg(y), np.rad2deg(z)\n",
    "    rx, ry, rz = x*180/np.pi, y*180/np.pi, z*180/np.pi\n",
    "    return rx, ry, rz"
   ]
  },
  {
   "cell_type": "code",
   "execution_count": null,
   "metadata": {},
   "outputs": [],
   "source": [
    "# export\n",
    "def denormal_mesh(verts, mean=None, std=None, pose=None):\n",
    "    if std is not None:\n",
    "        verts *= std\n",
    "    if mean is not None:\n",
    "        verts += mean\n",
    "    if pose is not None:\n",
    "        s = pose[6]/1000/0.0012\n",
    "        angles = pose[:3]\n",
    "        t = pose[3:6]*225\n",
    "        verts = transform(verts, s, angles, t, '3ddfa')\n",
    "    return verts"
   ]
  },
  {
   "cell_type": "code",
   "execution_count": null,
   "metadata": {},
   "outputs": [
    {
     "name": "stdout",
     "output_type": "stream",
     "text": [
      "Converted index.ipynb.\n",
      "Converted io.ipynb.\n",
      "Converted transform.ipynb.\n",
      "Converted utils.ipynb.\n"
     ]
    }
   ],
   "source": [
    "from nbdev.export import *\n",
    "\n",
    "notebook2script()"
   ]
  }
 ],
 "metadata": {
  "kernelspec": {
   "display_name": "dev",
   "language": "python",
   "name": "dev"
  }
 },
 "nbformat": 4,
 "nbformat_minor": 4
}
